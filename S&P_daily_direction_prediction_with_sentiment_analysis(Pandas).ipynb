{
  "nbformat": 4,
  "nbformat_minor": 0,
  "metadata": {
    "colab": {
      "name": "S&P daily direction prediction with sentiment analysis(Pandas).ipynb",
      "provenance": [],
      "collapsed_sections": [],
      "include_colab_link": true
    },
    "kernelspec": {
      "name": "python3",
      "display_name": "Python 3"
    }
  },
  "cells": [
    {
      "cell_type": "markdown",
      "metadata": {
        "id": "view-in-github",
        "colab_type": "text"
      },
      "source": [
        "<a href=\"https://colab.research.google.com/github/zhuohann/SP500PerfromancePredictionWithSentimentAnalysis/blob/master/S%26P_daily_direction_prediction_with_sentiment_analysis(Pandas).ipynb\" target=\"_parent\"><img src=\"https://colab.research.google.com/assets/colab-badge.svg\" alt=\"Open In Colab\"/></a>"
      ]
    },
    {
      "cell_type": "code",
      "metadata": {
        "id": "14aJ75ksuZdN",
        "colab_type": "code",
        "outputId": "46948549-6d1e-4b60-a5a7-4fdb6529248b",
        "colab": {
          "base_uri": "https://localhost:8080/",
          "height": 714
        }
      },
      "source": [
        "!pip install vaderSentiment\n",
        "!pip install tf-nightly-2.0-preview\n",
        "!pip install textblob\n",
        "import csv\n",
        "import matplotlib.pyplot as plt\n",
        "from textblob import TextBlob\n",
        "import seaborn as sns\n",
        "from vaderSentiment.vaderSentiment import SentimentIntensityAnalyzer\n",
        "import tensorflow as tf\n",
        "import numpy\n",
        "from numpy import array\n",
        "import pandas as pd\n",
        "from tensorflow.keras.optimizers import RMSprop, Ftrl, Adagrad, SGD, Adadelta, Adam, Adamax, Nadam\n",
        "print(tf.__version__)\n",
        "analyser = SentimentIntensityAnalyzer()"
      ],
      "execution_count": 49,
      "outputs": [
        {
          "output_type": "stream",
          "text": [
            "Requirement already satisfied: vaderSentiment in /usr/local/lib/python3.6/dist-packages (3.2.1)\n",
            "Requirement already satisfied: tf-nightly-2.0-preview in /usr/local/lib/python3.6/dist-packages (2.0.0.dev20191002)\n",
            "Requirement already satisfied: grpcio>=1.8.6 in /usr/local/lib/python3.6/dist-packages (from tf-nightly-2.0-preview) (1.15.0)\n",
            "Requirement already satisfied: six>=1.10.0 in /usr/local/lib/python3.6/dist-packages (from tf-nightly-2.0-preview) (1.12.0)\n",
            "Requirement already satisfied: keras-applications>=1.0.8 in /usr/local/lib/python3.6/dist-packages (from tf-nightly-2.0-preview) (1.0.8)\n",
            "Requirement already satisfied: tb-nightly<2.2.0a0,>=2.1.0a0 in /usr/local/lib/python3.6/dist-packages (from tf-nightly-2.0-preview) (2.1.0a20191206)\n",
            "Requirement already satisfied: tensorflow-estimator-2.0-preview in /usr/local/lib/python3.6/dist-packages (from tf-nightly-2.0-preview) (2.0.0)\n",
            "Requirement already satisfied: astor>=0.6.0 in /usr/local/lib/python3.6/dist-packages (from tf-nightly-2.0-preview) (0.8.1)\n",
            "Requirement already satisfied: opt-einsum>=2.3.2 in /usr/local/lib/python3.6/dist-packages (from tf-nightly-2.0-preview) (3.1.0)\n",
            "Requirement already satisfied: google-pasta>=0.1.6 in /usr/local/lib/python3.6/dist-packages (from tf-nightly-2.0-preview) (0.1.8)\n",
            "Requirement already satisfied: keras-preprocessing>=1.0.5 in /usr/local/lib/python3.6/dist-packages (from tf-nightly-2.0-preview) (1.1.0)\n",
            "Requirement already satisfied: wrapt>=1.11.1 in /usr/local/lib/python3.6/dist-packages (from tf-nightly-2.0-preview) (1.11.2)\n",
            "Requirement already satisfied: wheel>=0.26; python_version >= \"3\" in /usr/local/lib/python3.6/dist-packages (from tf-nightly-2.0-preview) (0.33.6)\n",
            "Requirement already satisfied: protobuf>=3.6.1 in /usr/local/lib/python3.6/dist-packages (from tf-nightly-2.0-preview) (3.10.0)\n",
            "Requirement already satisfied: absl-py>=0.7.0 in /usr/local/lib/python3.6/dist-packages (from tf-nightly-2.0-preview) (0.8.1)\n",
            "Requirement already satisfied: numpy<2.0,>=1.16.0 in /usr/local/lib/python3.6/dist-packages (from tf-nightly-2.0-preview) (1.17.4)\n",
            "Requirement already satisfied: termcolor>=1.1.0 in /usr/local/lib/python3.6/dist-packages (from tf-nightly-2.0-preview) (1.1.0)\n",
            "Requirement already satisfied: gast==0.2.2 in /usr/local/lib/python3.6/dist-packages (from tf-nightly-2.0-preview) (0.2.2)\n",
            "Requirement already satisfied: h5py in /usr/local/lib/python3.6/dist-packages (from keras-applications>=1.0.8->tf-nightly-2.0-preview) (2.8.0)\n",
            "Requirement already satisfied: google-auth<2,>=1.6.3 in /usr/local/lib/python3.6/dist-packages (from tb-nightly<2.2.0a0,>=2.1.0a0->tf-nightly-2.0-preview) (1.10.0)\n",
            "Requirement already satisfied: requests<3,>=2.21.0 in /usr/local/lib/python3.6/dist-packages (from tb-nightly<2.2.0a0,>=2.1.0a0->tf-nightly-2.0-preview) (2.21.0)\n",
            "Requirement already satisfied: markdown>=2.6.8 in /usr/local/lib/python3.6/dist-packages (from tb-nightly<2.2.0a0,>=2.1.0a0->tf-nightly-2.0-preview) (3.1.1)\n",
            "Requirement already satisfied: werkzeug>=0.11.15 in /usr/local/lib/python3.6/dist-packages (from tb-nightly<2.2.0a0,>=2.1.0a0->tf-nightly-2.0-preview) (0.16.0)\n",
            "Requirement already satisfied: setuptools>=41.0.0 in /usr/local/lib/python3.6/dist-packages (from tb-nightly<2.2.0a0,>=2.1.0a0->tf-nightly-2.0-preview) (42.0.2)\n",
            "Requirement already satisfied: google-auth-oauthlib<0.5,>=0.4.1 in /usr/local/lib/python3.6/dist-packages (from tb-nightly<2.2.0a0,>=2.1.0a0->tf-nightly-2.0-preview) (0.4.1)\n",
            "Requirement already satisfied: pyasn1-modules>=0.2.1 in /usr/local/lib/python3.6/dist-packages (from google-auth<2,>=1.6.3->tb-nightly<2.2.0a0,>=2.1.0a0->tf-nightly-2.0-preview) (0.2.7)\n",
            "Requirement already satisfied: cachetools<5.0,>=2.0.0 in /usr/local/lib/python3.6/dist-packages (from google-auth<2,>=1.6.3->tb-nightly<2.2.0a0,>=2.1.0a0->tf-nightly-2.0-preview) (4.0.0)\n",
            "Requirement already satisfied: rsa<4.1,>=3.1.4 in /usr/local/lib/python3.6/dist-packages (from google-auth<2,>=1.6.3->tb-nightly<2.2.0a0,>=2.1.0a0->tf-nightly-2.0-preview) (4.0)\n",
            "Requirement already satisfied: certifi>=2017.4.17 in /usr/local/lib/python3.6/dist-packages (from requests<3,>=2.21.0->tb-nightly<2.2.0a0,>=2.1.0a0->tf-nightly-2.0-preview) (2019.11.28)\n",
            "Requirement already satisfied: urllib3<1.25,>=1.21.1 in /usr/local/lib/python3.6/dist-packages (from requests<3,>=2.21.0->tb-nightly<2.2.0a0,>=2.1.0a0->tf-nightly-2.0-preview) (1.24.3)\n",
            "Requirement already satisfied: idna<2.9,>=2.5 in /usr/local/lib/python3.6/dist-packages (from requests<3,>=2.21.0->tb-nightly<2.2.0a0,>=2.1.0a0->tf-nightly-2.0-preview) (2.8)\n",
            "Requirement already satisfied: chardet<3.1.0,>=3.0.2 in /usr/local/lib/python3.6/dist-packages (from requests<3,>=2.21.0->tb-nightly<2.2.0a0,>=2.1.0a0->tf-nightly-2.0-preview) (3.0.4)\n",
            "Requirement already satisfied: requests-oauthlib>=0.7.0 in /usr/local/lib/python3.6/dist-packages (from google-auth-oauthlib<0.5,>=0.4.1->tb-nightly<2.2.0a0,>=2.1.0a0->tf-nightly-2.0-preview) (1.3.0)\n",
            "Requirement already satisfied: pyasn1<0.5.0,>=0.4.6 in /usr/local/lib/python3.6/dist-packages (from pyasn1-modules>=0.2.1->google-auth<2,>=1.6.3->tb-nightly<2.2.0a0,>=2.1.0a0->tf-nightly-2.0-preview) (0.4.8)\n",
            "Requirement already satisfied: oauthlib>=3.0.0 in /usr/local/lib/python3.6/dist-packages (from requests-oauthlib>=0.7.0->google-auth-oauthlib<0.5,>=0.4.1->tb-nightly<2.2.0a0,>=2.1.0a0->tf-nightly-2.0-preview) (3.1.0)\n",
            "Requirement already satisfied: textblob in /usr/local/lib/python3.6/dist-packages (0.15.3)\n",
            "Requirement already satisfied: nltk>=3.1 in /usr/local/lib/python3.6/dist-packages (from textblob) (3.2.5)\n",
            "Requirement already satisfied: six in /usr/local/lib/python3.6/dist-packages (from nltk>=3.1->textblob) (1.12.0)\n",
            "2.0.0-dev20191002\n"
          ],
          "name": "stdout"
        }
      ]
    },
    {
      "cell_type": "code",
      "metadata": {
        "id": "TFFqOh47ucA_",
        "colab_type": "code",
        "colab": {}
      },
      "source": [
        "SPIndex = pd.read_csv(\"/tmp/SPIndex.csv\")\n",
        "NewsCSV = pd.read_csv(\"/tmp/news.csv\")\n"
      ],
      "execution_count": 0,
      "outputs": []
    },
    {
      "cell_type": "code",
      "metadata": {
        "id": "DwwPHvzmvPY0",
        "colab_type": "code",
        "colab": {}
      },
      "source": [
        "dataset_SP_Sentiment = pd.DataFrame(SPIndex,columns= ['Date','open','close'])\n",
        "dataset_SP_Sentiment[\"close-open\"] = dataset_SP_Sentiment[\"close\"]-dataset_SP_Sentiment[\"open\"]\n",
        "dataset_SP_Sentiment['Date'] = pd.to_datetime(dataset_SP_Sentiment.Date)\n",
        "#dataset_SP_Sentiment.head()"
      ],
      "execution_count": 0,
      "outputs": []
    },
    {
      "cell_type": "code",
      "metadata": {
        "id": "4gfHUulMwe-V",
        "colab_type": "code",
        "colab": {}
      },
      "source": [
        "NewsCSV[\"Date\"] = pd.to_datetime(NewsCSV.Date)\n",
        "NewsCSV = NewsCSV.drop(columns = \"Label\")\n",
        "#NewsCSV.head()"
      ],
      "execution_count": 0,
      "outputs": []
    },
    {
      "cell_type": "code",
      "metadata": {
        "id": "QE1vdZD-xfmz",
        "colab_type": "code",
        "colab": {}
      },
      "source": [
        "dataset_SP_Sentiment = pd.merge(left=dataset_SP_Sentiment,right=NewsCSV)\n",
        "dataset_SP_Sentiment = dataset_SP_Sentiment.drop(columns = [\"Top21\",\"Top22\",\"Top23\",\"Top24\",\"Top25\"])\n",
        "#dataset_SP_Sentiment.head()\n"
      ],
      "execution_count": 0,
      "outputs": []
    },
    {
      "cell_type": "code",
      "metadata": {
        "id": "ANPg-qBjBvj0",
        "colab_type": "code",
        "colab": {}
      },
      "source": [
        "sentimentscore = pd.DataFrame()\n",
        "sentimentscore_textblob = pd.DataFrame()\n",
        "for i in range(20):\n",
        "  ColumnName = \"Top\"+str(int(i+1))\n",
        "  sentimentscore[ColumnName] = dataset_SP_Sentiment[ColumnName].apply(lambda x : analyser.polarity_scores(x[2:-1])['compound'])\n",
        "  sentimentscore_textblob[ColumnName] = dataset_SP_Sentiment[ColumnName].apply(lambda x : TextBlob(x[2:-1]).sentiment.polarity)"
      ],
      "execution_count": 0,
      "outputs": []
    },
    {
      "cell_type": "code",
      "metadata": {
        "id": "5a3heeOSC637",
        "colab_type": "code",
        "outputId": "ef54affd-626c-4725-b182-ec027cd14e70",
        "colab": {
          "base_uri": "https://localhost:8080/",
          "height": 206
        }
      },
      "source": [
        "sentimentscore.head()"
      ],
      "execution_count": 76,
      "outputs": [
        {
          "output_type": "execute_result",
          "data": {
            "text/html": [
              "<div>\n",
              "<style scoped>\n",
              "    .dataframe tbody tr th:only-of-type {\n",
              "        vertical-align: middle;\n",
              "    }\n",
              "\n",
              "    .dataframe tbody tr th {\n",
              "        vertical-align: top;\n",
              "    }\n",
              "\n",
              "    .dataframe thead th {\n",
              "        text-align: right;\n",
              "    }\n",
              "</style>\n",
              "<table border=\"1\" class=\"dataframe\">\n",
              "  <thead>\n",
              "    <tr style=\"text-align: right;\">\n",
              "      <th></th>\n",
              "      <th>Top1</th>\n",
              "      <th>Top2</th>\n",
              "      <th>Top3</th>\n",
              "      <th>Top4</th>\n",
              "      <th>Top5</th>\n",
              "      <th>Top6</th>\n",
              "      <th>Top7</th>\n",
              "      <th>Top8</th>\n",
              "      <th>Top9</th>\n",
              "      <th>Top10</th>\n",
              "      <th>Top11</th>\n",
              "      <th>Top12</th>\n",
              "      <th>Top13</th>\n",
              "      <th>Top14</th>\n",
              "      <th>Top15</th>\n",
              "      <th>Top16</th>\n",
              "      <th>Top17</th>\n",
              "      <th>Top18</th>\n",
              "      <th>Top19</th>\n",
              "      <th>Top20</th>\n",
              "    </tr>\n",
              "  </thead>\n",
              "  <tbody>\n",
              "    <tr>\n",
              "      <th>0</th>\n",
              "      <td>-0.5994</td>\n",
              "      <td>0.0000</td>\n",
              "      <td>-0.3612</td>\n",
              "      <td>-0.7089</td>\n",
              "      <td>-0.9260</td>\n",
              "      <td>0.0000</td>\n",
              "      <td>-0.2732</td>\n",
              "      <td>0.2144</td>\n",
              "      <td>-0.5719</td>\n",
              "      <td>-0.5994</td>\n",
              "      <td>-0.6486</td>\n",
              "      <td>-0.2263</td>\n",
              "      <td>-0.7645</td>\n",
              "      <td>0.0000</td>\n",
              "      <td>-0.5994</td>\n",
              "      <td>-0.5994</td>\n",
              "      <td>0.0000</td>\n",
              "      <td>0.2086</td>\n",
              "      <td>0.2023</td>\n",
              "      <td>0.0258</td>\n",
              "    </tr>\n",
              "    <tr>\n",
              "      <th>1</th>\n",
              "      <td>0.8156</td>\n",
              "      <td>-0.3182</td>\n",
              "      <td>0.4404</td>\n",
              "      <td>-0.1965</td>\n",
              "      <td>0.0000</td>\n",
              "      <td>-0.4939</td>\n",
              "      <td>-0.5106</td>\n",
              "      <td>-0.0772</td>\n",
              "      <td>-0.3578</td>\n",
              "      <td>-0.3400</td>\n",
              "      <td>0.0000</td>\n",
              "      <td>0.7783</td>\n",
              "      <td>0.0000</td>\n",
              "      <td>-0.3818</td>\n",
              "      <td>-0.1027</td>\n",
              "      <td>-0.2960</td>\n",
              "      <td>-0.3804</td>\n",
              "      <td>-0.8271</td>\n",
              "      <td>0.0000</td>\n",
              "      <td>-0.5994</td>\n",
              "    </tr>\n",
              "    <tr>\n",
              "      <th>2</th>\n",
              "      <td>0.0258</td>\n",
              "      <td>0.0000</td>\n",
              "      <td>-0.7845</td>\n",
              "      <td>-0.6124</td>\n",
              "      <td>0.0000</td>\n",
              "      <td>-0.6908</td>\n",
              "      <td>-0.5994</td>\n",
              "      <td>-0.5994</td>\n",
              "      <td>0.3400</td>\n",
              "      <td>-0.7650</td>\n",
              "      <td>-0.7964</td>\n",
              "      <td>-0.4404</td>\n",
              "      <td>-0.8591</td>\n",
              "      <td>0.0000</td>\n",
              "      <td>0.5423</td>\n",
              "      <td>0.0000</td>\n",
              "      <td>0.0000</td>\n",
              "      <td>0.0772</td>\n",
              "      <td>-0.5994</td>\n",
              "      <td>-0.5859</td>\n",
              "    </tr>\n",
              "    <tr>\n",
              "      <th>3</th>\n",
              "      <td>-0.7184</td>\n",
              "      <td>-0.8074</td>\n",
              "      <td>-0.6369</td>\n",
              "      <td>-0.1280</td>\n",
              "      <td>-0.5106</td>\n",
              "      <td>0.0000</td>\n",
              "      <td>0.5106</td>\n",
              "      <td>0.0000</td>\n",
              "      <td>0.3612</td>\n",
              "      <td>0.4574</td>\n",
              "      <td>0.4019</td>\n",
              "      <td>-0.2263</td>\n",
              "      <td>-0.2500</td>\n",
              "      <td>-0.2960</td>\n",
              "      <td>0.0000</td>\n",
              "      <td>0.0000</td>\n",
              "      <td>0.0000</td>\n",
              "      <td>0.0000</td>\n",
              "      <td>-0.5423</td>\n",
              "      <td>-0.0258</td>\n",
              "    </tr>\n",
              "    <tr>\n",
              "      <th>4</th>\n",
              "      <td>0.2023</td>\n",
              "      <td>-0.5994</td>\n",
              "      <td>0.6808</td>\n",
              "      <td>-0.8689</td>\n",
              "      <td>-0.6124</td>\n",
              "      <td>-0.6369</td>\n",
              "      <td>0.7177</td>\n",
              "      <td>-0.4404</td>\n",
              "      <td>-0.6808</td>\n",
              "      <td>-0.3400</td>\n",
              "      <td>0.0000</td>\n",
              "      <td>0.0000</td>\n",
              "      <td>0.0000</td>\n",
              "      <td>0.1779</td>\n",
              "      <td>0.0000</td>\n",
              "      <td>-0.6249</td>\n",
              "      <td>0.0000</td>\n",
              "      <td>-0.7579</td>\n",
              "      <td>-0.3182</td>\n",
              "      <td>0.0000</td>\n",
              "    </tr>\n",
              "  </tbody>\n",
              "</table>\n",
              "</div>"
            ],
            "text/plain": [
              "     Top1    Top2    Top3    Top4  ...   Top17   Top18   Top19   Top20\n",
              "0 -0.5994  0.0000 -0.3612 -0.7089  ...  0.0000  0.2086  0.2023  0.0258\n",
              "1  0.8156 -0.3182  0.4404 -0.1965  ... -0.3804 -0.8271  0.0000 -0.5994\n",
              "2  0.0258  0.0000 -0.7845 -0.6124  ...  0.0000  0.0772 -0.5994 -0.5859\n",
              "3 -0.7184 -0.8074 -0.6369 -0.1280  ...  0.0000  0.0000 -0.5423 -0.0258\n",
              "4  0.2023 -0.5994  0.6808 -0.8689  ...  0.0000 -0.7579 -0.3182  0.0000\n",
              "\n",
              "[5 rows x 20 columns]"
            ]
          },
          "metadata": {
            "tags": []
          },
          "execution_count": 76
        }
      ]
    },
    {
      "cell_type": "code",
      "metadata": {
        "id": "SHMtQemG5k9_",
        "colab_type": "code",
        "colab": {
          "base_uri": "https://localhost:8080/",
          "height": 226
        },
        "outputId": "4feec5e9-c775-4b88-e5ff-3cb5a8bbadb0"
      },
      "source": [
        "sentimentscore_textblob.head()"
      ],
      "execution_count": 77,
      "outputs": [
        {
          "output_type": "execute_result",
          "data": {
            "text/html": [
              "<div>\n",
              "<style scoped>\n",
              "    .dataframe tbody tr th:only-of-type {\n",
              "        vertical-align: middle;\n",
              "    }\n",
              "\n",
              "    .dataframe tbody tr th {\n",
              "        vertical-align: top;\n",
              "    }\n",
              "\n",
              "    .dataframe thead th {\n",
              "        text-align: right;\n",
              "    }\n",
              "</style>\n",
              "<table border=\"1\" class=\"dataframe\">\n",
              "  <thead>\n",
              "    <tr style=\"text-align: right;\">\n",
              "      <th></th>\n",
              "      <th>Top1</th>\n",
              "      <th>Top2</th>\n",
              "      <th>Top3</th>\n",
              "      <th>Top4</th>\n",
              "      <th>Top5</th>\n",
              "      <th>Top6</th>\n",
              "      <th>Top7</th>\n",
              "      <th>Top8</th>\n",
              "      <th>Top9</th>\n",
              "      <th>Top10</th>\n",
              "      <th>Top11</th>\n",
              "      <th>Top12</th>\n",
              "      <th>Top13</th>\n",
              "      <th>Top14</th>\n",
              "      <th>Top15</th>\n",
              "      <th>Top16</th>\n",
              "      <th>Top17</th>\n",
              "      <th>Top18</th>\n",
              "      <th>Top19</th>\n",
              "      <th>Top20</th>\n",
              "    </tr>\n",
              "  </thead>\n",
              "  <tbody>\n",
              "    <tr>\n",
              "      <th>0</th>\n",
              "      <td>0.0</td>\n",
              "      <td>0.000000</td>\n",
              "      <td>0.00</td>\n",
              "      <td>0.050000</td>\n",
              "      <td>-0.307143</td>\n",
              "      <td>-0.051852</td>\n",
              "      <td>0.000</td>\n",
              "      <td>-0.200000</td>\n",
              "      <td>-0.100</td>\n",
              "      <td>0.0</td>\n",
              "      <td>0.033333</td>\n",
              "      <td>0.033333</td>\n",
              "      <td>-0.033333</td>\n",
              "      <td>-0.125000</td>\n",
              "      <td>0.000000</td>\n",
              "      <td>0.35</td>\n",
              "      <td>0.000000</td>\n",
              "      <td>-0.100000</td>\n",
              "      <td>0.078788</td>\n",
              "      <td>0.000000</td>\n",
              "    </tr>\n",
              "    <tr>\n",
              "      <th>1</th>\n",
              "      <td>0.0</td>\n",
              "      <td>-0.155556</td>\n",
              "      <td>0.10</td>\n",
              "      <td>0.000000</td>\n",
              "      <td>0.000000</td>\n",
              "      <td>0.136364</td>\n",
              "      <td>-0.425</td>\n",
              "      <td>0.250000</td>\n",
              "      <td>0.600</td>\n",
              "      <td>0.0</td>\n",
              "      <td>0.000000</td>\n",
              "      <td>0.183333</td>\n",
              "      <td>0.000000</td>\n",
              "      <td>0.136364</td>\n",
              "      <td>0.000000</td>\n",
              "      <td>-0.40</td>\n",
              "      <td>0.250000</td>\n",
              "      <td>0.000000</td>\n",
              "      <td>0.000000</td>\n",
              "      <td>0.000000</td>\n",
              "    </tr>\n",
              "    <tr>\n",
              "      <th>2</th>\n",
              "      <td>0.0</td>\n",
              "      <td>0.000000</td>\n",
              "      <td>-0.25</td>\n",
              "      <td>-0.875000</td>\n",
              "      <td>0.000000</td>\n",
              "      <td>0.000000</td>\n",
              "      <td>0.000</td>\n",
              "      <td>0.022222</td>\n",
              "      <td>-0.025</td>\n",
              "      <td>0.0</td>\n",
              "      <td>0.038095</td>\n",
              "      <td>-0.150000</td>\n",
              "      <td>0.000000</td>\n",
              "      <td>0.214286</td>\n",
              "      <td>0.500000</td>\n",
              "      <td>0.25</td>\n",
              "      <td>0.285714</td>\n",
              "      <td>-0.333333</td>\n",
              "      <td>-0.600000</td>\n",
              "      <td>0.000000</td>\n",
              "    </tr>\n",
              "    <tr>\n",
              "      <th>3</th>\n",
              "      <td>0.0</td>\n",
              "      <td>0.000000</td>\n",
              "      <td>-0.20</td>\n",
              "      <td>-0.212963</td>\n",
              "      <td>0.175000</td>\n",
              "      <td>0.000000</td>\n",
              "      <td>0.000</td>\n",
              "      <td>0.000000</td>\n",
              "      <td>0.000</td>\n",
              "      <td>0.5</td>\n",
              "      <td>-0.166667</td>\n",
              "      <td>0.000000</td>\n",
              "      <td>0.133333</td>\n",
              "      <td>0.000000</td>\n",
              "      <td>0.285714</td>\n",
              "      <td>-0.40</td>\n",
              "      <td>0.000000</td>\n",
              "      <td>0.000000</td>\n",
              "      <td>0.000000</td>\n",
              "      <td>0.000000</td>\n",
              "    </tr>\n",
              "    <tr>\n",
              "      <th>4</th>\n",
              "      <td>0.0</td>\n",
              "      <td>0.000000</td>\n",
              "      <td>0.40</td>\n",
              "      <td>-0.233333</td>\n",
              "      <td>-0.200000</td>\n",
              "      <td>-0.500000</td>\n",
              "      <td>0.625</td>\n",
              "      <td>0.166667</td>\n",
              "      <td>0.000</td>\n",
              "      <td>-0.1</td>\n",
              "      <td>0.000000</td>\n",
              "      <td>0.285714</td>\n",
              "      <td>0.000000</td>\n",
              "      <td>0.550000</td>\n",
              "      <td>-0.025000</td>\n",
              "      <td>0.10</td>\n",
              "      <td>0.000000</td>\n",
              "      <td>0.066667</td>\n",
              "      <td>0.000000</td>\n",
              "      <td>0.068182</td>\n",
              "    </tr>\n",
              "  </tbody>\n",
              "</table>\n",
              "</div>"
            ],
            "text/plain": [
              "   Top1      Top2  Top3      Top4  ...     Top17     Top18     Top19     Top20\n",
              "0   0.0  0.000000  0.00  0.050000  ...  0.000000 -0.100000  0.078788  0.000000\n",
              "1   0.0 -0.155556  0.10  0.000000  ...  0.250000  0.000000  0.000000  0.000000\n",
              "2   0.0  0.000000 -0.25 -0.875000  ...  0.285714 -0.333333 -0.600000  0.000000\n",
              "3   0.0  0.000000 -0.20 -0.212963  ...  0.000000  0.000000  0.000000  0.000000\n",
              "4   0.0  0.000000  0.40 -0.233333  ...  0.000000  0.066667  0.000000  0.068182\n",
              "\n",
              "[5 rows x 20 columns]"
            ]
          },
          "metadata": {
            "tags": []
          },
          "execution_count": 77
        }
      ]
    },
    {
      "cell_type": "code",
      "metadata": {
        "id": "KDGnYuXA6axy",
        "colab_type": "code",
        "outputId": "a059a0aa-1f44-4e5b-e49b-d88f313f75e2",
        "colab": {
          "base_uri": "https://localhost:8080/",
          "height": 319
        }
      },
      "source": [
        "corr = sentimentscore.corr()\n",
        "ax = sns.heatmap(\n",
        "    corr, \n",
        "    vmin=-1, vmax=1, center=0,\n",
        "    cmap=sns.diverging_palette(20, 220, n=20),\n",
        "    square=True\n",
        ")\n",
        "ax.set_xticklabels(\n",
        "    ax.get_xticklabels(),\n",
        "    rotation=90,\n",
        "    horizontalalignment='right'\n",
        ");\n",
        "ax.set_title(\"Correlation heat map for vadersentiment scores\")"
      ],
      "execution_count": 78,
      "outputs": [
        {
          "output_type": "execute_result",
          "data": {
            "text/plain": [
              "Text(0.5, 1, 'Correlation heat map for vadersentiment scores')"
            ]
          },
          "metadata": {
            "tags": []
          },
          "execution_count": 78
        },
        {
          "output_type": "display_data",
          "data": {
            "image/png": "[encoded data removed]",
            "text/plain": [
              "<Figure size 432x288 with 2 Axes>"
            ]
          },
          "metadata": {
            "tags": []
          }
        }
      ]
    },
    {
      "cell_type": "code",
      "metadata": {
        "id": "SgJjVOVM5xZ9",
        "colab_type": "code",
        "colab": {
          "base_uri": "https://localhost:8080/",
          "height": 319
        },
        "outputId": "f9dddd6d-3582-49b2-b1b5-ea705e5d8e4b"
      },
      "source": [
        "corr = sentimentscore_textblob.corr()\n",
        "ax = sns.heatmap(\n",
        "    corr, \n",
        "    vmin=-1, vmax=1, center=0,\n",
        "    cmap=sns.diverging_palette(20, 220, n=20),\n",
        "    square=True\n",
        ")\n",
        "ax.set_xticklabels(\n",
        "    ax.get_xticklabels(),\n",
        "    rotation=90,\n",
        "    horizontalalignment='right'\n",
        ");\n",
        "ax.set_title(\"Correlation heat map for TextBlob sentiment scores\")"
      ],
      "execution_count": 79,
      "outputs": [
        {
          "output_type": "execute_result",
          "data": {
            "text/plain": [
              "Text(0.5, 1, 'Correlation heat map for TextBlob sentiment scores')"
            ]
          },
          "metadata": {
            "tags": []
          },
          "execution_count": 79
        },
        {
          "output_type": "display_data",
          "data": {
            "image/png": "[encoded data removed]",
            "text/plain": [
              "<Figure size 432x288 with 2 Axes>"
            ]
          },
          "metadata": {
            "tags": []
          }
        }
      ]
    },
    {
      "cell_type": "code",
      "metadata": {
        "id": "oLPucgKe-N-b",
        "colab_type": "code",
        "colab": {}
      },
      "source": [
        "dataset_SP_Sentiment['Up or Down'] = dataset_SP_Sentiment['close-open'].apply(lambda x : 1 if (x > 0) else 0)\n",
        "#dataset_SP_Sentiment.head()"
      ],
      "execution_count": 0,
      "outputs": []
    },
    {
      "cell_type": "code",
      "metadata": {
        "id": "N8bP96mdAcps",
        "colab_type": "code",
        "colab": {}
      },
      "source": [
        "x_train = sentimentscore[300:1300]\n",
        "y_train = dataset_SP_Sentiment['Up or Down'][301:1301]\n",
        "x_valid = sentimentscore[1300:1325]\n",
        "y_valid = dataset_SP_Sentiment['Up or Down'][1301:1326]\n"
      ],
      "execution_count": 0,
      "outputs": []
    },
    {
      "cell_type": "code",
      "metadata": {
        "id": "sVd3HndFI2yk",
        "colab_type": "code",
        "colab": {}
      },
      "source": [
        "features = [\"Top1\",\"Top2\",\"Top3\",\"Top4\",\"Top5\",\"Top6\",\"Top7\",\"Top8\",\"Top9\",\"Top10\",\"Top11\",\"Top12\",\"Top13\",\"Top14\",\"Top15\",\"Top16\",\"Top17\",\"Top18\",\"Top19\",\"Top20\"]\n",
        "\n",
        "train_dataset = tf.data.Dataset.from_tensor_slices((tf.cast(x_train.values, tf.float32), tf.cast(y_train.values, tf.int32))).batch(5)\n",
        "valid_dataset = tf.data.Dataset.from_tensor_slices((tf.cast(x_valid.values, tf.float32), tf.cast(y_valid.values, tf.int32))).batch(5)\n",
        "#valid_dataset = tf.data.Dataset.from_tensor_slices((tf.cast(x_valid[features].values, tf.float32), tf.cast(y_valid.values, tf.int32))).batch(5)"
      ],
      "execution_count": 0,
      "outputs": []
    },
    {
      "cell_type": "code",
      "metadata": {
        "id": "1WmCGaXbJ_xI",
        "colab_type": "code",
        "colab": {}
      },
      "source": [
        "tf.keras.backend.clear_session()\n",
        "model = tf.keras.models.Sequential([\n",
        "  tf.keras.layers.Lambda(lambda x: tf.expand_dims(x, axis=-1),input_shape=[None]),\n",
        "  #tf.keras.layers.Conv1D(filters=32, kernel_size=5,strides=1, padding=\"causal\",activation=\"relu\",input_shape=[None, 1]),\n",
        "  tf.keras.layers.LSTM(64, return_sequences=True),\n",
        "  tf.keras.layers.LSTM(64),\n",
        "  #tf.keras.layers.Dense(1024),\n",
        "  #tf.keras.layers.Dense(512, activation=\"relu\"),\n",
        "  tf.keras.layers.Dense(32, activation=\"relu\"),\n",
        "  tf.keras.layers.Dense(1, activation= \"sigmoid\")\n",
        "])\n",
        "\n",
        "#model.compile(loss='binary_crossentropy',optimizer=RMSprop(lr=1e-4),metrics=['binary_accuracy'])\n",
        "#model.compile(loss='binary_crossentropy',optimizer=Ftrl(lr=1e-8),metrics=['binary_accuracy'])\n",
        "#model.compile(loss='binary_crossentropy',optimizer=Adagrad(lr = 1e-2),metrics=['binary_accuracy'])\n",
        "model.compile(loss='binary_crossentropy',optimizer= SGD(lr = 5e-3),metrics=['binary_accuracy'])\n",
        "#model.compile(loss='binary_crossentropy',optimizer= Adadelta(lr = 1e-3),metrics=['binary_accuracy'])\n",
        "#model.compile(loss='binary_crossentropy',optimizer= Adam(lr=1e-3),metrics=['binary_accuracy'])\n",
        "#model.compile(loss='binary_crossentropy',optimizer= Adamax(lr=5e-3),metrics=['binary_accuracy'])\n",
        "#model.compile(loss='binary_crossentropy',optimizer= Nadam(lr=1e-4),metrics=['binary_accuracy'])\n",
        "history = model.fit(train_dataset,validation_data = valid_dataset,epochs=500,verbose=0)"
      ],
      "execution_count": 0,
      "outputs": []
    },
    {
      "cell_type": "code",
      "metadata": {
        "id": "H27Q1vX-MLcx",
        "colab_type": "code",
        "outputId": "30a4dc24-1faf-42ff-ab88-e6131bbed603",
        "colab": {
          "base_uri": "https://localhost:8080/",
          "height": 298
        }
      },
      "source": [
        "acc = history.history['binary_accuracy']\n",
        "val_acc = history.history['val_binary_accuracy']\n",
        "\n",
        "startpoint = 0\n",
        "epochs = range(len(acc))\n",
        "\n",
        "plt.plot(epochs[startpoint:], acc[startpoint:], 'r', label='Training accuracy')\n",
        "plt.plot(epochs[startpoint:], val_acc[startpoint:], 'b', label='Validation accuracy')\n",
        "plt.title('Training and validation accuracy')\n",
        "plt.legend(loc=0)\n",
        "plt.figure()\n",
        "\n",
        "plt.show()"
      ],
      "execution_count": 45,
      "outputs": [
        {
          "output_type": "display_data",
          "data": {
            "image/png": "[encoded data removed]",
            "text/plain": [
              "<Figure size 432x288 with 1 Axes>"
            ]
          },
          "metadata": {
            "tags": []
          }
        },
        {
          "output_type": "display_data",
          "data": {
            "text/plain": [
              "<Figure size 432x288 with 0 Axes>"
            ]
          },
          "metadata": {
            "tags": []
          }
        }
      ]
    },
    {
      "cell_type": "code",
      "metadata": {
        "id": "9xvsVmWiMOJa",
        "colab_type": "code",
        "outputId": "fc5df806-3b12-4f48-9599-6ba47c2e42d6",
        "colab": {
          "base_uri": "https://localhost:8080/",
          "height": 298
        }
      },
      "source": [
        "loss = history.history['loss']\n",
        "val_loss = history.history['val_loss']\n",
        "\n",
        "epochs = range(len(loss))\n",
        "startpoint = 0\n",
        "\n",
        "plt.plot(epochs[startpoint:], loss[startpoint:], 'r', label='Training loss')\n",
        "plt.plot(epochs[startpoint:], val_loss[startpoint:], 'b', label='Validation loss')\n",
        "plt.title('Training and validation loss')\n",
        "plt.legend(loc=0)\n",
        "plt.figure()\n",
        "\n",
        "plt.show()"
      ],
      "execution_count": 46,
      "outputs": [
        {
          "output_type": "display_data",
          "data": {
            "image/png": "[encoded data removed]",
            "text/plain": [
              "<Figure size 432x288 with 1 Axes>"
            ]
          },
          "metadata": {
            "tags": []
          }
        },
        {
          "output_type": "display_data",
          "data": {
            "text/plain": [
              "<Figure size 432x288 with 0 Axes>"
            ]
          },
          "metadata": {
            "tags": []
          }
        }
      ]
    },
    {
      "cell_type": "code",
      "metadata": {
        "id": "5W65KqruMqkP",
        "colab_type": "code",
        "outputId": "058b9b90-b1ef-411f-e28a-6522bfae073c",
        "colab": {
          "base_uri": "https://localhost:8080/",
          "height": 104
        }
      },
      "source": [
        "prediction  = model.predict(tf.cast(sentimentscore[1300:1305].values, tf.float32)).round().flatten()\n",
        "prediction.astype(int)\n",
        "actual = dataset_SP_Sentiment['Up or Down'][1301:1306].values\n",
        "for x,y in zip(actual,prediction):\n",
        "  print(\"Actual: {}    Prediction: {}\".format(x,y))"
      ],
      "execution_count": 28,
      "outputs": [
        {
          "output_type": "stream",
          "text": [
            "Actual: 0    Prediction: 0.0\n",
            "Actual: 1    Prediction: 1.0\n",
            "Actual: 1    Prediction: 1.0\n",
            "Actual: 1    Prediction: 1.0\n",
            "Actual: 0    Prediction: 0.0\n"
          ],
          "name": "stdout"
        }
      ]
    }
  ]
}