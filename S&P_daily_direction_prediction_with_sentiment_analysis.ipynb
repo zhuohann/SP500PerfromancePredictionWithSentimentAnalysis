{
  "nbformat": 4,
  "nbformat_minor": 0,
  "metadata": {
    "colab": {
      "name": "S&P daily direction prediction with sentiment analysis.ipynb",
      "provenance": [],
      "collapsed_sections": []
    },
    "kernelspec": {
      "name": "python3",
      "display_name": "Python 3"
    }
  },
  "cells": [
    {
      "cell_type": "code",
      "metadata": {
        "id": "bPpG6ffRTm-g",
        "colab_type": "code",
        "outputId": "7e0a8245-0f69-4292-b9fd-257c41f79b54",
        "colab": {
          "base_uri": "https://localhost:8080/",
          "height": 662
        }
      },
      "source": [
        "!pip install vaderSentiment\n",
        "!pip install tf-nightly-2.0-preview\n",
        "import csv\n",
        "import matplotlib.pyplot as plt\n",
        "from vaderSentiment.vaderSentiment import SentimentIntensityAnalyzer\n",
        "import tensorflow as tf\n",
        "import numpy\n",
        "from numpy import array\n",
        "from tensorflow.keras.optimizers import RMSprop, Ftrl, Adagrad, SGD, Adadelta, Adam, Adamax, Nadam\n",
        "print(tf.__version__)\n",
        "\n"
      ],
      "execution_count": 1,
      "outputs": [
        {
          "output_type": "stream",
          "text": [
            "Requirement already satisfied: vaderSentiment in /usr/local/lib/python3.6/dist-packages (3.2.1)\n",
            "Requirement already satisfied: tf-nightly-2.0-preview in /usr/local/lib/python3.6/dist-packages (2.0.0.dev20191002)\n",
            "Requirement already satisfied: keras-applications>=1.0.8 in /usr/local/lib/python3.6/dist-packages (from tf-nightly-2.0-preview) (1.0.8)\n",
            "Requirement already satisfied: absl-py>=0.7.0 in /usr/local/lib/python3.6/dist-packages (from tf-nightly-2.0-preview) (0.8.1)\n",
            "Requirement already satisfied: numpy<2.0,>=1.16.0 in /usr/local/lib/python3.6/dist-packages (from tf-nightly-2.0-preview) (1.17.4)\n",
            "Requirement already satisfied: wrapt>=1.11.1 in /usr/local/lib/python3.6/dist-packages (from tf-nightly-2.0-preview) (1.11.2)\n",
            "Requirement already satisfied: grpcio>=1.8.6 in /usr/local/lib/python3.6/dist-packages (from tf-nightly-2.0-preview) (1.15.0)\n",
            "Requirement already satisfied: astor>=0.6.0 in /usr/local/lib/python3.6/dist-packages (from tf-nightly-2.0-preview) (0.8.1)\n",
            "Requirement already satisfied: opt-einsum>=2.3.2 in /usr/local/lib/python3.6/dist-packages (from tf-nightly-2.0-preview) (3.1.0)\n",
            "Requirement already satisfied: gast==0.2.2 in /usr/local/lib/python3.6/dist-packages (from tf-nightly-2.0-preview) (0.2.2)\n",
            "Requirement already satisfied: google-pasta>=0.1.6 in /usr/local/lib/python3.6/dist-packages (from tf-nightly-2.0-preview) (0.1.8)\n",
            "Requirement already satisfied: keras-preprocessing>=1.0.5 in /usr/local/lib/python3.6/dist-packages (from tf-nightly-2.0-preview) (1.1.0)\n",
            "Requirement already satisfied: protobuf>=3.6.1 in /usr/local/lib/python3.6/dist-packages (from tf-nightly-2.0-preview) (3.10.0)\n",
            "Requirement already satisfied: tb-nightly<2.2.0a0,>=2.1.0a0 in /usr/local/lib/python3.6/dist-packages (from tf-nightly-2.0-preview) (2.1.0a20191206)\n",
            "Requirement already satisfied: six>=1.10.0 in /usr/local/lib/python3.6/dist-packages (from tf-nightly-2.0-preview) (1.12.0)\n",
            "Requirement already satisfied: tensorflow-estimator-2.0-preview in /usr/local/lib/python3.6/dist-packages (from tf-nightly-2.0-preview) (2.0.0)\n",
            "Requirement already satisfied: wheel>=0.26; python_version >= \"3\" in /usr/local/lib/python3.6/dist-packages (from tf-nightly-2.0-preview) (0.33.6)\n",
            "Requirement already satisfied: termcolor>=1.1.0 in /usr/local/lib/python3.6/dist-packages (from tf-nightly-2.0-preview) (1.1.0)\n",
            "Requirement already satisfied: h5py in /usr/local/lib/python3.6/dist-packages (from keras-applications>=1.0.8->tf-nightly-2.0-preview) (2.8.0)\n",
            "Requirement already satisfied: setuptools in /usr/local/lib/python3.6/dist-packages (from protobuf>=3.6.1->tf-nightly-2.0-preview) (42.0.2)\n",
            "Requirement already satisfied: google-auth-oauthlib<0.5,>=0.4.1 in /usr/local/lib/python3.6/dist-packages (from tb-nightly<2.2.0a0,>=2.1.0a0->tf-nightly-2.0-preview) (0.4.1)\n",
            "Requirement already satisfied: markdown>=2.6.8 in /usr/local/lib/python3.6/dist-packages (from tb-nightly<2.2.0a0,>=2.1.0a0->tf-nightly-2.0-preview) (3.1.1)\n",
            "Requirement already satisfied: google-auth<2,>=1.6.3 in /usr/local/lib/python3.6/dist-packages (from tb-nightly<2.2.0a0,>=2.1.0a0->tf-nightly-2.0-preview) (1.10.0)\n",
            "Requirement already satisfied: werkzeug>=0.11.15 in /usr/local/lib/python3.6/dist-packages (from tb-nightly<2.2.0a0,>=2.1.0a0->tf-nightly-2.0-preview) (0.16.0)\n",
            "Requirement already satisfied: requests<3,>=2.21.0 in /usr/local/lib/python3.6/dist-packages (from tb-nightly<2.2.0a0,>=2.1.0a0->tf-nightly-2.0-preview) (2.21.0)\n",
            "Requirement already satisfied: requests-oauthlib>=0.7.0 in /usr/local/lib/python3.6/dist-packages (from google-auth-oauthlib<0.5,>=0.4.1->tb-nightly<2.2.0a0,>=2.1.0a0->tf-nightly-2.0-preview) (1.3.0)\n",
            "Requirement already satisfied: pyasn1-modules>=0.2.1 in /usr/local/lib/python3.6/dist-packages (from google-auth<2,>=1.6.3->tb-nightly<2.2.0a0,>=2.1.0a0->tf-nightly-2.0-preview) (0.2.7)\n",
            "Requirement already satisfied: cachetools<5.0,>=2.0.0 in /usr/local/lib/python3.6/dist-packages (from google-auth<2,>=1.6.3->tb-nightly<2.2.0a0,>=2.1.0a0->tf-nightly-2.0-preview) (4.0.0)\n",
            "Requirement already satisfied: rsa<4.1,>=3.1.4 in /usr/local/lib/python3.6/dist-packages (from google-auth<2,>=1.6.3->tb-nightly<2.2.0a0,>=2.1.0a0->tf-nightly-2.0-preview) (4.0)\n",
            "Requirement already satisfied: certifi>=2017.4.17 in /usr/local/lib/python3.6/dist-packages (from requests<3,>=2.21.0->tb-nightly<2.2.0a0,>=2.1.0a0->tf-nightly-2.0-preview) (2019.11.28)\n",
            "Requirement already satisfied: idna<2.9,>=2.5 in /usr/local/lib/python3.6/dist-packages (from requests<3,>=2.21.0->tb-nightly<2.2.0a0,>=2.1.0a0->tf-nightly-2.0-preview) (2.8)\n",
            "Requirement already satisfied: urllib3<1.25,>=1.21.1 in /usr/local/lib/python3.6/dist-packages (from requests<3,>=2.21.0->tb-nightly<2.2.0a0,>=2.1.0a0->tf-nightly-2.0-preview) (1.24.3)\n",
            "Requirement already satisfied: chardet<3.1.0,>=3.0.2 in /usr/local/lib/python3.6/dist-packages (from requests<3,>=2.21.0->tb-nightly<2.2.0a0,>=2.1.0a0->tf-nightly-2.0-preview) (3.0.4)\n",
            "Requirement already satisfied: oauthlib>=3.0.0 in /usr/local/lib/python3.6/dist-packages (from requests-oauthlib>=0.7.0->google-auth-oauthlib<0.5,>=0.4.1->tb-nightly<2.2.0a0,>=2.1.0a0->tf-nightly-2.0-preview) (3.1.0)\n",
            "Requirement already satisfied: pyasn1<0.5.0,>=0.4.6 in /usr/local/lib/python3.6/dist-packages (from pyasn1-modules>=0.2.1->google-auth<2,>=1.6.3->tb-nightly<2.2.0a0,>=2.1.0a0->tf-nightly-2.0-preview) (0.4.8)\n",
            "2.0.0-dev20191002\n"
          ],
          "name": "stdout"
        }
      ]
    },
    {
      "cell_type": "code",
      "metadata": {
        "id": "Y4G1rXNKW6oC",
        "colab_type": "code",
        "outputId": "e8f82496-74d9-4e94-d4a8-8673f6f14aae",
        "colab": {
          "base_uri": "https://localhost:8080/",
          "height": 286
        }
      },
      "source": [
        "#Read S&P data for csv file\n",
        "with open(\"/tmp/SPIndex.csv\") as csvfile:\n",
        "    readCSV = csv.reader(csvfile, delimiter=\",\")\n",
        "    next(readCSV)\n",
        "    dates = []\n",
        "    openf = []\n",
        "    high = []\n",
        "    low = []\n",
        "    close = []\n",
        "    adjclose = []\n",
        "    volume = []\n",
        "    for row in readCSV:\n",
        "        dates.append(row[0])\n",
        "        openf.append(row[1])\n",
        "        high.append(row[2])\n",
        "        low.append(row[3])\n",
        "        close.append(row[4])\n",
        "        adjclose.append(row[5])\n",
        "        volume.append(row[6])\n",
        "openf = list(map(float, openf))\n",
        "close = list(map(float,close))\n",
        "x = list(range(1,4512))\n",
        "plt.plot(x,openf)"
      ],
      "execution_count": 3,
      "outputs": [
        {
          "output_type": "execute_result",
          "data": {
            "text/plain": [
              "[<matplotlib.lines.Line2D at 0x7fab80a14630>]"
            ]
          },
          "metadata": {
            "tags": []
          },
          "execution_count": 3
        },
        {
          "output_type": "display_data",
          "data": {
            "image/png": "[encoded data removed]",
            "text/plain": [
              "<Figure size 432x288 with 1 Axes>"
            ]
          },
          "metadata": {
            "tags": []
          }
        }
      ]
    },
    {
      "cell_type": "code",
      "metadata": {
        "id": "dTb4zwo2Yvf-",
        "colab_type": "code",
        "colab": {}
      },
      "source": [
        "#Read news data from CSV file\n",
        "with open(\"/tmp/news.csv\") as newscsv:\n",
        "    readCSVnews = csv.reader(newscsv, delimiter=\",\")\n",
        "    next(readCSVnews)\n",
        "    newsdate = []\n",
        "    newslabel = []\n",
        "    top1 = []\n",
        "    top2 = []\n",
        "    top3 = []\n",
        "    top4 = []\n",
        "    top5 = []\n",
        "    top6 = []\n",
        "    top7 = []\n",
        "    top8 = []\n",
        "    top9 = []\n",
        "    top10 = [] \n",
        "\n",
        "    for row in readCSVnews:\n",
        "      newsdate.append(row[0])\n",
        "      newslabel.append(row[1])\n",
        "      top1.append(row[2][2:-1])\n",
        "      top2.append(row[3][2:-1])\n",
        "      top3.append(row[4][2:-1])\n",
        "      top4.append(row[5][2:-1])\n",
        "      top5.append(row[6][2:-1])\n",
        "      top6.append(row[7][2:-1])\n",
        "      top7.append(row[8][2:-1])\n",
        "      top8.append(row[9][2:-1])\n",
        "      top9.append(row[10][2:-1])\n",
        "      top10.append(row[11][2:-1])\n"
      ],
      "execution_count": 0,
      "outputs": []
    },
    {
      "cell_type": "code",
      "metadata": {
        "id": "RhuvleTMj6Sr",
        "colab_type": "code",
        "colab": {}
      },
      "source": [
        "#change date format for SPindex dates\n",
        "spdate = []\n",
        "for x in dates:\n",
        "  maxlength = len(x)\n",
        "  year = \"20\" + x[maxlength-2:maxlength]\n",
        "  slash1loc = x.find('/')\n",
        "  slash2loc = x.find('/',slash1loc+1)\n",
        "  month = x[:slash1loc]\n",
        "  day = x[slash1loc+1:slash2loc]\n",
        "  if len(month) == 1:\n",
        "    month = \"0\" + month\n",
        "  if len(day) == 1:\n",
        "    day = \"0\"+ day\n",
        "  spdate.append(year+month+day)"
      ],
      "execution_count": 0,
      "outputs": []
    },
    {
      "cell_type": "code",
      "metadata": {
        "id": "teb_ccXpkAqH",
        "colab_type": "code",
        "colab": {}
      },
      "source": [
        "#change date format for news dates\n",
        "ndate = []\n",
        "for x in newsdate:\n",
        "  ndate.append(x[:4]+x[5:7]+x[8:10])\n",
        "  "
      ],
      "execution_count": 0,
      "outputs": []
    },
    {
      "cell_type": "code",
      "metadata": {
        "id": "emGcXfBBo07e",
        "colab_type": "code",
        "outputId": "bbe58435-0a7b-456b-8fdb-3ef8722f1f6c",
        "colab": {
          "base_uri": "https://localhost:8080/",
          "height": 86
        }
      },
      "source": [
        "#Print out length of list before cleaning\n",
        "print(\"length of spdate is {}\".format(len(spdate)))\n",
        "print(\"length of newsdate is {}\".format(len(ndate)))\n",
        "print(\"length of openf is {}\".format(len(openf)))\n",
        "print(\"length of close is {}\".format(len(close)))"
      ],
      "execution_count": 7,
      "outputs": [
        {
          "output_type": "stream",
          "text": [
            "length of spdate is 4511\n",
            "length of newsdate is 1989\n",
            "length of openf is 4511\n",
            "length of close is 4511\n"
          ],
          "name": "stdout"
        }
      ]
    },
    {
      "cell_type": "code",
      "metadata": {
        "id": "7Ylf17YuvTt9",
        "colab_type": "code",
        "colab": {}
      },
      "source": [
        "initdel = spdate.index(ndate[0])\n",
        "for i in spdate[:initdel]:\n",
        "  spdate.remove(i)\n",
        "for i in openf[:initdel]:\n",
        "  openf.remove(i)\n",
        "for i in close[:initdel]:\n",
        "  close.remove(i)"
      ],
      "execution_count": 0,
      "outputs": []
    },
    {
      "cell_type": "code",
      "metadata": {
        "id": "HfRIwn2IwKrH",
        "colab_type": "code",
        "outputId": "4559e36e-6439-4528-e8ad-9d900cfd0e1e",
        "colab": {
          "base_uri": "https://localhost:8080/",
          "height": 34
        }
      },
      "source": [
        "finaldel = spdate.index(ndate[-1])+1\n",
        "#print(finaldel) remove\n",
        "for i in spdate[finaldel:]:\n",
        "  spdate.remove(i)\n",
        "for i in openf[finaldel:]:\n",
        "  openf.remove(i)\n",
        "for i in close[finaldel:]:\n",
        "  close.remove(i)"
      ],
      "execution_count": 9,
      "outputs": [
        {
          "output_type": "stream",
          "text": [
            "1989\n"
          ],
          "name": "stdout"
        }
      ]
    },
    {
      "cell_type": "code",
      "metadata": {
        "id": "36RqYCavwZvS",
        "colab_type": "code",
        "outputId": "825be35e-640a-44e9-b74f-515e60aaf323",
        "colab": {
          "base_uri": "https://localhost:8080/",
          "height": 86
        }
      },
      "source": [
        "#Print out length list after cleaning\n",
        "print(\"length of spdate is {}\".format(len(spdate)))\n",
        "print(\"length of newsdate is {}\".format(len(ndate)))\n",
        "print(\"length of nopenf is {}\".format(len(openf)))\n",
        "print(\"length of close is {}\".format(len(close)))"
      ],
      "execution_count": 11,
      "outputs": [
        {
          "output_type": "stream",
          "text": [
            "length of spdate is 1989\n",
            "length of newsdate is 1989\n",
            "length of nopenf is 1989\n",
            "length of close is 1989\n"
          ],
          "name": "stdout"
        }
      ]
    },
    {
      "cell_type": "code",
      "metadata": {
        "id": "a3LyCQ0ex_8Z",
        "colab_type": "code",
        "colab": {}
      },
      "source": [
        "analyser = SentimentIntensityAnalyzer()"
      ],
      "execution_count": 0,
      "outputs": []
    },
    {
      "cell_type": "code",
      "metadata": {
        "id": "zd_c5rAqu076",
        "colab_type": "code",
        "colab": {}
      },
      "source": [
        "#Assign values to top 6 news each day from sentiment analysis\n",
        "dailyscore = []\n",
        "for a,b,c,d,e,f,g,h,i,j in zip(top1,top2,top3,top4,top5,top6,top7,top8,top9,top10):\n",
        "  tmpscorelist = [(analyser.polarity_scores(a)['compound'] +1) /2,(analyser.polarity_scores(b)['compound']+1) /2,\n",
        "                  (analyser.polarity_scores(c)['compound'] +1) /2,(analyser.polarity_scores(d)['compound'] +1) /2,\n",
        "                  (analyser.polarity_scores(e)['compound'] +1) /2,(analyser.polarity_scores(f)['compound'] +1) /2,\n",
        "                  (analyser.polarity_scores(g)['compound'] +1) /2,(analyser.polarity_scores(h)['compound'] +1) /2,\n",
        "                  (analyser.polarity_scores(i)['compound'] +1) /2,(analyser.polarity_scores(j)['compound'] +1) /2]\n",
        "  dailyscore.append(tmpscorelist)\n"
      ],
      "execution_count": 0,
      "outputs": []
    },
    {
      "cell_type": "code",
      "metadata": {
        "id": "LoUVMmjQvzHr",
        "colab_type": "code",
        "colab": {}
      },
      "source": [
        "upordown = [] #up as 1,0,0 down as 0,1,0, else 0,0,0\n",
        "for x,y in zip(openf,close):\n",
        "  if (y > x):\n",
        "    upordown.append([1,0,0])\n",
        "  elif (y == x):\n",
        "    upordown.append([0,0,0])\n",
        "  else:\n",
        "    upordown.append([0,1,0])\n",
        "\n",
        "change = [] #close-open range 0 to 1\n",
        "for x,y in zip(openf,close):\n",
        "  change.append((y-x+100)/200) \n",
        "\n"
      ],
      "execution_count": 0,
      "outputs": []
    },
    {
      "cell_type": "code",
      "metadata": {
        "id": "-qeshpq-dJdr",
        "colab_type": "code",
        "colab": {}
      },
      "source": [
        "xtrain = array(dailyscore[:1650])\n",
        "ytrain = array(change[1:1651])\n",
        "xvalid = array(dailyscore[1650:1900])\n",
        "yvalid = array(change[1651:1901])\n",
        "xtrain2 = array(dailyscore[300:1300])\n",
        "ytrain2 = array(upordown[301:1301])\n",
        "xvalid2 = array(dailyscore[1300:1325])\n",
        "yvalid2 = array(upordown[1301:1326])\n",
        "train_dataset = tf.data.Dataset.from_tensor_slices((xtrain, ytrain)).batch(100)\n",
        "valid_dataset = tf.data.Dataset.from_tensor_slices((xvalid, yvalid)).batch(100)\n",
        "\n",
        "\n",
        "train_dataset2 = tf.data.Dataset.from_tensor_slices((xtrain2, ytrain2)).batch(5)\n",
        "valid_dataset2 = tf.data.Dataset.from_tensor_slices((xvalid2, yvalid2)).batch(5)\n"
      ],
      "execution_count": 0,
      "outputs": []
    },
    {
      "cell_type": "code",
      "metadata": {
        "id": "HmeNqs7XtGoV",
        "colab_type": "code",
        "outputId": "a7ada725-dc89-49f5-a868-076b7b022bac",
        "colab": {
          "base_uri": "https://localhost:8080/",
          "height": 141
        }
      },
      "source": [
        "tf.keras.backend.clear_session()\n",
        "model = tf.keras.models.Sequential([\n",
        "  tf.keras.layers.Dense(1024),\n",
        "  tf.keras.layers.Dense(512, activation=\"relu\"),\n",
        "  tf.keras.layers.Dense(256, activation=\"relu\"),\n",
        "  tf.keras.layers.Dense(3, activation= \"softmax\")\n",
        "])\n",
        "\n",
        "\n",
        "#model.compile(loss='binary_crossentropy',optimizer=RMSprop(lr=1e-5),metrics=['binary_accuracy'])\n",
        "#model.compile(loss='binary_crossentropy',optimizer=Ftrl(lr=1e-8),metrics=['binary_accuracy'])\n",
        "#model.compile(loss='binary_crossentropy',optimizer=Adagrad(lr = 1e-2),metrics=['binary_accuracy'])\n",
        "model.compile(loss='binary_crossentropy',optimizer= SGD(lr = 5e-3),metrics=['binary_accuracy'])\n",
        "#model.compile(loss='binary_crossentropy',optimizer= Adadelta(lr = 1e-3),metrics=['binary_accuracy'])\n",
        "#model.compile(loss='binary_crossentropy',optimizer= Adam(lr=1e-3),metrics=['binary_accuracy'])\n",
        "#model.compile(loss='binary_crossentropy',optimizer= Adamax(lr=5e-3),metrics=['binary_accuracy'])\n",
        "#model.compile(loss='binary_crossentropy',optimizer= Nadam(lr=1e-4),metrics=['binary_accuracy'])\n",
        "history = model.fit(train_dataset2,validation_data = valid_dataset2,epochs=2000,verbose=0)"
      ],
      "execution_count": 18,
      "outputs": [
        {
          "output_type": "stream",
          "text": [
            "WARNING:tensorflow:Layer sequential is casting an input tensor from dtype float64 to the layer's dtype of float32, which is new behavior in TensorFlow 2.  The layer has dtype float32 because it's dtype defaults to floatx.\n",
            "\n",
            "If you intended to run this layer in float32, you can safely ignore this warning. If in doubt, this warning is likely only an issue if you are porting a TensorFlow 1.X model to TensorFlow 2.\n",
            "\n",
            "To change all layers to have dtype float64 by default, call `tf.keras.backend.set_floatx('float64')`. To change just this layer, pass dtype='float64' to the layer constructor. If you are the author of this layer, you can disable autocasting by passing autocast=False to the base Layer constructor.\n",
            "\n"
          ],
          "name": "stdout"
        }
      ]
    },
    {
      "cell_type": "code",
      "metadata": {
        "id": "Wn54j5WVRYek",
        "colab_type": "code",
        "colab": {}
      },
      "source": [
        "#conv1D + lstm\n",
        "tf.keras.backend.clear_session()\n",
        "tf.random.set_seed(51)\n",
        "\n",
        "\n",
        "model = tf.keras.models.Sequential([\n",
        "  tf.keras.layers.Lambda(lambda x: tf.expand_dims(x, axis=-1),input_shape=[None]),\n",
        "  #tf.keras.layers.Conv1D(filters=32, kernel_size=5,strides=1, padding=\"causal\",activation=\"relu\",input_shape=[None, 1]),\n",
        "  tf.keras.layers.LSTM(64, return_sequences=True),\n",
        "  tf.keras.layers.LSTM(64),\n",
        "  tf.keras.layers.Dense(32, activation=\"relu\"),\n",
        "  tf.keras.layers.Dense(16, activation=\"relu\"),\n",
        "  tf.keras.layers.Dense(3, activation=\"softmax\")\n",
        "])\n",
        "\n",
        "\n",
        "#model.compile(loss='binary_crossentropy',optimizer=RMSprop(lr=1e-4),metrics=['binary_accuracy'])\n",
        "#model.compile(loss='binary_crossentropy',optimizer=Ftrl(lr=1e-12),metrics=['binary_accuracy'])\n",
        "#model.compile(loss='binary_crossentropy',optimizer=Adagrad(lr = 1e-2),metrics=['binary_accuracy'])\n",
        "#model.compile(loss='binary_crossentropy',optimizer= SGD(lr = 1e-3),metrics=['binary_accuracy'])\n",
        "#model.compile(loss='binary_crossentropy',optimizer= Adadelta(lr = 5e-1),metrics=['binary_accuracy'])\n",
        "#model.compile(loss='binary_crossentropy',optimizer= Adam(lr=1e-2),metrics=['binary_accuracy'])\n",
        "#model.compile(loss='binary_crossentropy',optimizer= Adamax(lr=1e-3),metrics=['binary_accuracy'])\n",
        "#model.compile(loss='binary_crossentropy',optimizer= Nadam(lr=1e-2),metrics=['binary_accuracy'])\n",
        "history = model.fit(train_dataset2,validation_data = valid_dataset2,epochs=100,verbose=0)"
      ],
      "execution_count": 0,
      "outputs": []
    },
    {
      "cell_type": "code",
      "metadata": {
        "id": "idT_-3qzp8kD",
        "colab_type": "code",
        "outputId": "1c796eb4-e178-41fc-d99d-3ddc7cab12df",
        "colab": {
          "base_uri": "https://localhost:8080/",
          "height": 298
        }
      },
      "source": [
        "acc = history.history['binary_accuracy']\n",
        "val_acc = history.history['val_binary_accuracy']\n",
        "\n",
        "startpoint = 0\n",
        "epochs = range(len(acc))\n",
        "\n",
        "plt.plot(epochs[startpoint:], acc[startpoint:], 'r', label='Training accuracy')\n",
        "plt.plot(epochs[startpoint:], val_acc[startpoint:], 'b', label='Validation accuracy')\n",
        "plt.title('Training and validation accuracy')\n",
        "plt.legend(loc=0)\n",
        "plt.figure()\n",
        "\n",
        "\n",
        "plt.show()"
      ],
      "execution_count": 27,
      "outputs": [
        {
          "output_type": "display_data",
          "data": {
            "image/png": "[encoded data removed]",
            "text/plain": [
              "<Figure size 432x288 with 1 Axes>"
            ]
          },
          "metadata": {
            "tags": []
          }
        },
        {
          "output_type": "display_data",
          "data": {
            "text/plain": [
              "<Figure size 432x288 with 0 Axes>"
            ]
          },
          "metadata": {
            "tags": []
          }
        }
      ]
    },
    {
      "cell_type": "code",
      "metadata": {
        "id": "ifrZx28KoGEx",
        "colab_type": "code",
        "outputId": "baba7b7a-3c1f-4e6c-db25-672269c31e4a",
        "colab": {
          "base_uri": "https://localhost:8080/",
          "height": 298
        }
      },
      "source": [
        "loss = history.history['loss']\n",
        "val_loss = history.history['val_loss']\n",
        "epochs = range(len(loss))\n",
        "startpoint = 0\n",
        "plt.plot(epochs[startpoint:], loss[startpoint:], 'r', label='Training loss')\n",
        "plt.plot(epochs[startpoint:], val_loss[startpoint:], 'b', label='Validation loss')\n",
        "plt.title('Training and validation loss')\n",
        "plt.legend(loc=0)\n",
        "plt.figure()\n",
        "\n",
        "\n",
        "plt.show()"
      ],
      "execution_count": 26,
      "outputs": [
        {
          "output_type": "display_data",
          "data": {
            "image/png": "[encoded data removed]",
            "text/plain": [
              "<Figure size 432x288 with 1 Axes>"
            ]
          },
          "metadata": {
            "tags": []
          }
        },
        {
          "output_type": "display_data",
          "data": {
            "text/plain": [
              "<Figure size 432x288 with 0 Axes>"
            ]
          },
          "metadata": {
            "tags": []
          }
        }
      ]
    },
    {
      "cell_type": "code",
      "metadata": {
        "id": "2IfNcPILxF1d",
        "colab_type": "code",
        "colab": {}
      },
      "source": [
        "a = 1711\n",
        "while a < 1760:\n",
        "  prediction = model.predict(array(dailyscore[a-1])[numpy.newaxis])\n",
        "  print(\"actual: {} ; Prediction: {}\".format(change[a],prediction))\n",
        "  a = a + 1"
      ],
      "execution_count": 0,
      "outputs": []
    },
    {
      "cell_type": "code",
      "metadata": {
        "id": "fvMRBxScA767",
        "colab_type": "code",
        "outputId": "d57dbea0-aca4-4c32-b359-aafca452780d",
        "colab": {
          "base_uri": "https://localhost:8080/",
          "height": 104
        }
      },
      "source": [
        "a = 1301\n",
        "b = 1306\n",
        "while a < b:\n",
        "  prediction = model.predict(array(dailyscore[a-1])[numpy.newaxis]).round()\n",
        "  print(\"actual: {} ; Prediction: {}\".format(upordown[a],prediction))\n",
        "  a = a + 1"
      ],
      "execution_count": 25,
      "outputs": [
        {
          "output_type": "stream",
          "text": [
            "actual: [0, 1, 0] ; Prediction: [[1. 0. 0.]]\n",
            "actual: [1, 0, 0] ; Prediction: [[1. 0. 0.]]\n",
            "actual: [1, 0, 0] ; Prediction: [[0. 1. 0.]]\n",
            "actual: [1, 0, 0] ; Prediction: [[0. 1. 0.]]\n",
            "actual: [0, 1, 0] ; Prediction: [[0. 1. 0.]]\n"
          ],
          "name": "stdout"
        }
      ]
    },
    {
      "cell_type": "code",
      "metadata": {
        "id": "JL4pU_zGg23N",
        "colab_type": "code",
        "colab": {}
      },
      "source": [
        ""
      ],
      "execution_count": 0,
      "outputs": []
    }
  ]
}